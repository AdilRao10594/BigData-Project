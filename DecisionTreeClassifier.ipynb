{
  "nbformat": 4,
  "nbformat_minor": 0,
  "metadata": {
    "colab": {
      "provenance": []
    },
    "kernelspec": {
      "name": "python3",
      "display_name": "Python 3"
    },
    "language_info": {
      "name": "python"
    }
  },
  "cells": [
    {
      "cell_type": "code",
      "execution_count": 2,
      "metadata": {
        "id": "6DWn7ERMyQgR"
      },
      "outputs": [],
      "source": [
        "from pyspark.sql import SparkSession\n",
        "from pyspark.ml.feature import VectorAssembler\n",
        "from pyspark.ml.classification import DecisionTreeClassifier\n",
        "from pyspark.ml import Pipeline\n",
        "from pyspark.ml.evaluation import BinaryClassificationEvaluator\n",
        "import numpy as np\n",
        "from sklearn import metrics\n",
        "import matplotlib.pyplot as plt"
      ]
    },
    {
      "cell_type": "code",
      "source": [
        "# Create Spark session\n",
        "spark = SparkSession.builder.appName('ml-cls').getOrCreate()\n"
      ],
      "metadata": {
        "id": "SFxZwo4QyTec"
      },
      "execution_count": 3,
      "outputs": []
    },
    {
      "cell_type": "code",
      "source": [
        "# Load dataset\n",
        "df = spark.read.csv('/content/HeartDisease.csv', header=True, inferSchema=True)\n",
        "\n",
        "# Show schema of the DataFrame\n",
        "df.printSchema()"
      ],
      "metadata": {
        "colab": {
          "base_uri": "https://localhost:8080/"
        },
        "id": "V3d_YFivyatA",
        "outputId": "fee30cf9-065b-413e-fa8c-4ec76042c0b3"
      },
      "execution_count": 4,
      "outputs": [
        {
          "output_type": "stream",
          "name": "stdout",
          "text": [
            "root\n",
            " |-- age: integer (nullable = true)\n",
            " |-- sex: integer (nullable = true)\n",
            " |-- cp: integer (nullable = true)\n",
            " |-- trestbps: integer (nullable = true)\n",
            " |-- chol: integer (nullable = true)\n",
            " |-- fbs: integer (nullable = true)\n",
            " |-- restecg: integer (nullable = true)\n",
            " |-- thalach: integer (nullable = true)\n",
            " |-- exang: integer (nullable = true)\n",
            " |-- oldpeak: double (nullable = true)\n",
            " |-- slope: integer (nullable = true)\n",
            " |-- ca: integer (nullable = true)\n",
            " |-- thal: integer (nullable = true)\n",
            " |-- target: integer (nullable = true)\n",
            "\n"
          ]
        }
      ]
    },
    {
      "cell_type": "code",
      "source": [
        "# Drop non-relevant columns\n",
        "df = df.drop('sex', 'cp', 'slope')"
      ],
      "metadata": {
        "id": "VIBE7V0iyhmZ"
      },
      "execution_count": 5,
      "outputs": []
    },
    {
      "cell_type": "code",
      "source": [
        "X = df.drop('target')  # Remove label from the features"
      ],
      "metadata": {
        "id": "MW1QCNzwyk3n"
      },
      "execution_count": 6,
      "outputs": []
    },
    {
      "cell_type": "code",
      "source": [
        "# Feature engineering: VectorAssembler to combine features into a single vector column\n",
        "assembler = VectorAssembler(inputCols=X.columns, outputCol='features')\n",
        "transformed_data = assembler.transform(df)"
      ],
      "metadata": {
        "id": "d_pZnBnBymM5"
      },
      "execution_count": 7,
      "outputs": []
    },
    {
      "cell_type": "code",
      "source": [
        "# Show transformed data\n",
        "transformed_data.show(5, truncate=False)"
      ],
      "metadata": {
        "colab": {
          "base_uri": "https://localhost:8080/"
        },
        "id": "g0pplr9ZysXk",
        "outputId": "bca21eb6-762d-4c05-9aab-b01a9a4ddb8c"
      },
      "execution_count": 8,
      "outputs": [
        {
          "output_type": "stream",
          "name": "stdout",
          "text": [
            "+---+--------+----+---+-------+-------+-----+-------+---+----+------+------------------------------------------------+\n",
            "|age|trestbps|chol|fbs|restecg|thalach|exang|oldpeak|ca |thal|target|features                                        |\n",
            "+---+--------+----+---+-------+-------+-----+-------+---+----+------+------------------------------------------------+\n",
            "|52 |125     |212 |0  |1      |168    |0    |1.0    |2  |3   |0     |[52.0,125.0,212.0,0.0,1.0,168.0,0.0,1.0,2.0,3.0]|\n",
            "|53 |140     |203 |1  |0      |155    |1    |3.1    |0  |3   |0     |[53.0,140.0,203.0,1.0,0.0,155.0,1.0,3.1,0.0,3.0]|\n",
            "|70 |145     |174 |0  |1      |125    |1    |2.6    |0  |3   |0     |[70.0,145.0,174.0,0.0,1.0,125.0,1.0,2.6,0.0,3.0]|\n",
            "|61 |148     |203 |0  |1      |161    |0    |0.0    |1  |3   |0     |[61.0,148.0,203.0,0.0,1.0,161.0,0.0,0.0,1.0,3.0]|\n",
            "|62 |138     |294 |1  |1      |106    |0    |1.9    |3  |2   |0     |[62.0,138.0,294.0,1.0,1.0,106.0,0.0,1.9,3.0,2.0]|\n",
            "+---+--------+----+---+-------+-------+-----+-------+---+----+------+------------------------------------------------+\n",
            "only showing top 5 rows\n",
            "\n"
          ]
        }
      ]
    },
    {
      "cell_type": "code",
      "source": [
        "from rich.console import Console\n",
        "# Initialize a Console for rich formatting\n",
        "console = Console()"
      ],
      "metadata": {
        "id": "ZhiT2La8y51j"
      },
      "execution_count": 10,
      "outputs": []
    },
    {
      "cell_type": "code",
      "source": [
        "# Function to evaluate the model with different train-test splits\n",
        "def evaluate_model(test_ratio, train_ratio):\n",
        "    print('#################################################################################################################################')\n",
        "    console.print(\n",
        "        f\"[bold underline]This is for {int(test_ratio * 100)}% Test and {int(train_ratio * 100)}% Train[/bold underline]\",\n",
        "        justify=\"center\",\n",
        "        style=\"blue\"\n",
        "    )\n",
        "    print('#################################################################################################################################')\n",
        "    # Split the data into train and test sets\n",
        "    (X_train, X_test) = transformed_data.randomSplit([train_ratio, test_ratio])\n",
        "\n",
        "    # Initialize Decision Tree model\n",
        "    dt = DecisionTreeClassifier(featuresCol='features', labelCol='target')\n",
        "\n",
        "    # Train the model\n",
        "    dt_model = dt.fit(X_train)\n",
        "\n",
        "    # Make predictions on the test data\n",
        "    predictions = dt_model.transform(X_test)\n",
        "\n",
        "    # Show some predictions\n",
        "    predictions.select('age', 'trestbps', 'chol', 'fbs', 'restecg', 'thalach', 'exang', 'oldpeak', 'ca', 'thal', 'prediction').show(5)\n",
        "\n",
        "    # Group by the 'target' and 'prediction' columns to see the counts\n",
        "    predictions.groupBy('target', 'prediction').count().show()\n",
        "\n",
        "    # Extract true labels and predicted labels as lists\n",
        "    y_true = predictions.select('target').rdd.flatMap(list).collect()\n",
        "    y_pred = predictions.select('prediction').rdd.flatMap(list).collect()\n",
        "\n",
        "    # Calculate confusion matrix\n",
        "    cm = metrics.confusion_matrix(y_true, y_pred)\n",
        "\n",
        "    # Print confusion matrix\n",
        "    print(f\"Confusion Matrix (Test ratio {test_ratio}):\")\n",
        "    print(cm)\n",
        "\n",
        "    # Visualize the confusion matrix\n",
        "    fig, ax = plt.subplots(figsize=(5, 5))\n",
        "    ax.imshow(cm, cmap=plt.cm.Blues)\n",
        "    ax.grid(False)\n",
        "    ax.xaxis.set(ticks=(0, 1), ticklabels=('Predicted 0s', 'Predicted 1s'))\n",
        "    ax.yaxis.set(ticks=(0, 1), ticklabels=('Actual 0s', 'Actual 1s'))\n",
        "    ax.set_ylim(1.5, -0.5)\n",
        "\n",
        "    # Annotate each cell in the confusion matrix\n",
        "    for i in range(2):\n",
        "        for j in range(2):\n",
        "            ax.text(j, i, cm[i, j], ha='center', va='center', color='red')\n",
        "    plt.show()\n",
        "\n",
        "    # Calculate metrics from confusion matrix\n",
        "    TP = cm[1, 1]\n",
        "    TN = cm[0, 0]\n",
        "    FP = cm[0, 1]\n",
        "    FN = cm[1, 0]\n",
        "    accuracy = (TN + TP) / (TN + TP + FN + FP)\n",
        "    recall = TP / (TP + FN)\n",
        "    specificity = TN / (TN + FP)\n",
        "    precision = TP / (TP + FP)\n",
        "\n",
        "    # Print metrics\n",
        "    print(f'Metrics computed from a confusion matrix (Test ratio {test_ratio}):')\n",
        "    print(\"Accuracy:\\t\", accuracy)\n",
        "    print(\"Classification Error:\", 1 - accuracy)\n",
        "    print(\"Sensitivity/Recall:\\t\", recall)\n",
        "    print(\"Specificity:\\t\", specificity)\n",
        "    print(\"Precision:\\t\", precision)\n",
        "    print(\"False Positive Rate:\", 1 - TN / (TN + FP))"
      ],
      "metadata": {
        "id": "ilsE6B_lyuUE"
      },
      "execution_count": 13,
      "outputs": []
    },
    {
      "cell_type": "code",
      "source": [
        "# Evaluate the model with different splits\n",
        "evaluate_model(0.2, 0.8)  # 20% test, 80% train\n",
        "evaluate_model(0.3, 0.7)  # 30% test, 70% train\n",
        "evaluate_model(0.35, 0.65)  # 35% test, 65% train"
      ],
      "metadata": {
        "colab": {
          "base_uri": "https://localhost:8080/",
          "height": 1000
        },
        "id": "NIYz7oqPyyLr",
        "outputId": "70f9bb60-a769-49ea-8004-11272b5dea24"
      },
      "execution_count": 14,
      "outputs": [
        {
          "output_type": "stream",
          "name": "stdout",
          "text": [
            "#################################################################################################################################\n"
          ]
        },
        {
          "output_type": "display_data",
          "data": {
            "text/plain": [
              "\u001b[34m                                        \u001b[0m\u001b[1;4;34mThis is for \u001b[0m\u001b[1;4;36m20\u001b[0m\u001b[1;4;34m% Test and \u001b[0m\u001b[1;4;36m80\u001b[0m\u001b[1;4;34m% Train\u001b[0m\u001b[34m                                         \u001b[0m\n"
            ],
            "text/html": [
              "<pre style=\"white-space:pre;overflow-x:auto;line-height:normal;font-family:Menlo,'DejaVu Sans Mono',consolas,'Courier New',monospace\"><span style=\"color: #000080; text-decoration-color: #000080\">                                        </span><span style=\"color: #000080; text-decoration-color: #000080; font-weight: bold; text-decoration: underline\">This is for </span><span style=\"color: #008080; text-decoration-color: #008080; font-weight: bold; text-decoration: underline\">20</span><span style=\"color: #000080; text-decoration-color: #000080; font-weight: bold; text-decoration: underline\">% Test and </span><span style=\"color: #008080; text-decoration-color: #008080; font-weight: bold; text-decoration: underline\">80</span><span style=\"color: #000080; text-decoration-color: #000080; font-weight: bold; text-decoration: underline\">% Train</span><span style=\"color: #000080; text-decoration-color: #000080\">                                         </span>\n",
              "</pre>\n"
            ]
          },
          "metadata": {}
        },
        {
          "output_type": "stream",
          "name": "stdout",
          "text": [
            "#################################################################################################################################\n",
            "+---+--------+----+---+-------+-------+-----+-------+---+----+----------+\n",
            "|age|trestbps|chol|fbs|restecg|thalach|exang|oldpeak| ca|thal|prediction|\n",
            "+---+--------+----+---+-------+-------+-----+-------+---+----+----------+\n",
            "| 29|     130| 204|  0|      0|    202|    0|    0.0|  0|   2|       1.0|\n",
            "| 35|     120| 198|  0|      1|    130|    1|    1.6|  0|   3|       0.0|\n",
            "| 35|     126| 282|  0|      0|    156|    1|    0.0|  0|   3|       0.0|\n",
            "| 37|     120| 215|  0|      1|    170|    0|    0.0|  0|   2|       1.0|\n",
            "| 37|     130| 250|  0|      1|    187|    0|    3.5|  0|   2|       1.0|\n",
            "+---+--------+----+---+-------+-------+-----+-------+---+----+----------+\n",
            "only showing top 5 rows\n",
            "\n",
            "+------+----------+-----+\n",
            "|target|prediction|count|\n",
            "+------+----------+-----+\n",
            "|     1|       0.0|    9|\n",
            "|     0|       0.0|   80|\n",
            "|     1|       1.0|   88|\n",
            "|     0|       1.0|   23|\n",
            "+------+----------+-----+\n",
            "\n",
            "Confusion Matrix (Test ratio 0.2):\n",
            "[[80 23]\n",
            " [ 9 88]]\n"
          ]
        },
        {
          "output_type": "display_data",
          "data": {
            "text/plain": [
              "<Figure size 500x500 with 1 Axes>"
            ],
            "image/png": "[encoded data removed]"
          },
          "metadata": {}
        },
        {
          "output_type": "stream",
          "name": "stdout",
          "text": [
            "Metrics computed from a confusion matrix (Test ratio 0.2):\n",
            "Accuracy:\t 0.84\n",
            "Classification Error: 0.16000000000000003\n",
            "Sensitivity/Recall:\t 0.9072164948453608\n",
            "Specificity:\t 0.7766990291262136\n",
            "Precision:\t 0.7927927927927928\n",
            "False Positive Rate: 0.22330097087378642\n",
            "#################################################################################################################################\n"
          ]
        },
        {
          "output_type": "display_data",
          "data": {
            "text/plain": [
              "\u001b[34m                                        \u001b[0m\u001b[1;4;34mThis is for \u001b[0m\u001b[1;4;36m30\u001b[0m\u001b[1;4;34m% Test and \u001b[0m\u001b[1;4;36m70\u001b[0m\u001b[1;4;34m% Train\u001b[0m\u001b[34m                                         \u001b[0m\n"
            ],
            "text/html": [
              "<pre style=\"white-space:pre;overflow-x:auto;line-height:normal;font-family:Menlo,'DejaVu Sans Mono',consolas,'Courier New',monospace\"><span style=\"color: #000080; text-decoration-color: #000080\">                                        </span><span style=\"color: #000080; text-decoration-color: #000080; font-weight: bold; text-decoration: underline\">This is for </span><span style=\"color: #008080; text-decoration-color: #008080; font-weight: bold; text-decoration: underline\">30</span><span style=\"color: #000080; text-decoration-color: #000080; font-weight: bold; text-decoration: underline\">% Test and </span><span style=\"color: #008080; text-decoration-color: #008080; font-weight: bold; text-decoration: underline\">70</span><span style=\"color: #000080; text-decoration-color: #000080; font-weight: bold; text-decoration: underline\">% Train</span><span style=\"color: #000080; text-decoration-color: #000080\">                                         </span>\n",
              "</pre>\n"
            ]
          },
          "metadata": {}
        },
        {
          "output_type": "stream",
          "name": "stdout",
          "text": [
            "#################################################################################################################################\n",
            "+---+--------+----+---+-------+-------+-----+-------+---+----+----------+\n",
            "|age|trestbps|chol|fbs|restecg|thalach|exang|oldpeak| ca|thal|prediction|\n",
            "+---+--------+----+---+-------+-------+-----+-------+---+----+----------+\n",
            "| 29|     130| 204|  0|      0|    202|    0|    0.0|  0|   2|       1.0|\n",
            "| 29|     130| 204|  0|      0|    202|    0|    0.0|  0|   2|       1.0|\n",
            "| 34|     118| 182|  0|      0|    174|    0|    0.0|  0|   2|       1.0|\n",
            "| 34|     118| 210|  0|      1|    192|    0|    0.7|  0|   2|       1.0|\n",
            "| 34|     118| 210|  0|      1|    192|    0|    0.7|  0|   2|       1.0|\n",
            "+---+--------+----+---+-------+-------+-----+-------+---+----+----------+\n",
            "only showing top 5 rows\n",
            "\n",
            "+------+----------+-----+\n",
            "|target|prediction|count|\n",
            "+------+----------+-----+\n",
            "|     1|       0.0|   16|\n",
            "|     0|       0.0|  118|\n",
            "|     1|       1.0|  142|\n",
            "|     0|       1.0|   25|\n",
            "+------+----------+-----+\n",
            "\n",
            "Confusion Matrix (Test ratio 0.3):\n",
            "[[118  25]\n",
            " [ 16 142]]\n"
          ]
        },
        {
          "output_type": "display_data",
          "data": {
            "text/plain": [
              "<Figure size 500x500 with 1 Axes>"
            ],
            "image/png": "[encoded data removed]"
          },
          "metadata": {}
        },
        {
          "output_type": "stream",
          "name": "stdout",
          "text": [
            "Metrics computed from a confusion matrix (Test ratio 0.3):\n",
            "Accuracy:\t 0.8637873754152824\n",
            "Classification Error: 0.1362126245847176\n",
            "Sensitivity/Recall:\t 0.8987341772151899\n",
            "Specificity:\t 0.8251748251748252\n",
            "Precision:\t 0.8502994011976048\n",
            "False Positive Rate: 0.1748251748251748\n",
            "#################################################################################################################################\n"
          ]
        },
        {
          "output_type": "display_data",
          "data": {
            "text/plain": [
              "\u001b[34m                                        \u001b[0m\u001b[1;4;34mThis is for \u001b[0m\u001b[1;4;36m35\u001b[0m\u001b[1;4;34m% Test and \u001b[0m\u001b[1;4;36m65\u001b[0m\u001b[1;4;34m% Train\u001b[0m\u001b[34m                                         \u001b[0m\n"
            ],
            "text/html": [
              "<pre style=\"white-space:pre;overflow-x:auto;line-height:normal;font-family:Menlo,'DejaVu Sans Mono',consolas,'Courier New',monospace\"><span style=\"color: #000080; text-decoration-color: #000080\">                                        </span><span style=\"color: #000080; text-decoration-color: #000080; font-weight: bold; text-decoration: underline\">This is for </span><span style=\"color: #008080; text-decoration-color: #008080; font-weight: bold; text-decoration: underline\">35</span><span style=\"color: #000080; text-decoration-color: #000080; font-weight: bold; text-decoration: underline\">% Test and </span><span style=\"color: #008080; text-decoration-color: #008080; font-weight: bold; text-decoration: underline\">65</span><span style=\"color: #000080; text-decoration-color: #000080; font-weight: bold; text-decoration: underline\">% Train</span><span style=\"color: #000080; text-decoration-color: #000080\">                                         </span>\n",
              "</pre>\n"
            ]
          },
          "metadata": {}
        },
        {
          "output_type": "stream",
          "name": "stdout",
          "text": [
            "#################################################################################################################################\n",
            "+---+--------+----+---+-------+-------+-----+-------+---+----+----------+\n",
            "|age|trestbps|chol|fbs|restecg|thalach|exang|oldpeak| ca|thal|prediction|\n",
            "+---+--------+----+---+-------+-------+-----+-------+---+----+----------+\n",
            "| 29|     130| 204|  0|      0|    202|    0|    0.0|  0|   2|       1.0|\n",
            "| 34|     118| 182|  0|      0|    174|    0|    0.0|  0|   2|       1.0|\n",
            "| 34|     118| 182|  0|      0|    174|    0|    0.0|  0|   2|       1.0|\n",
            "| 35|     120| 198|  0|      1|    130|    1|    1.6|  0|   3|       0.0|\n",
            "| 35|     122| 192|  0|      1|    174|    0|    0.0|  0|   2|       1.0|\n",
            "+---+--------+----+---+-------+-------+-----+-------+---+----+----------+\n",
            "only showing top 5 rows\n",
            "\n",
            "+------+----------+-----+\n",
            "|target|prediction|count|\n",
            "+------+----------+-----+\n",
            "|     1|       0.0|   19|\n",
            "|     0|       0.0|  150|\n",
            "|     1|       1.0|  172|\n",
            "|     0|       1.0|   38|\n",
            "+------+----------+-----+\n",
            "\n",
            "Confusion Matrix (Test ratio 0.35):\n",
            "[[150  38]\n",
            " [ 19 172]]\n"
          ]
        },
        {
          "output_type": "display_data",
          "data": {
            "text/plain": [
              "<Figure size 500x500 with 1 Axes>"
            ],
            "image/png": "[encoded data removed]"
          },
          "metadata": {}
        },
        {
          "output_type": "stream",
          "name": "stdout",
          "text": [
            "Metrics computed from a confusion matrix (Test ratio 0.35):\n",
            "Accuracy:\t 0.8496042216358839\n",
            "Classification Error: 0.1503957783641161\n",
            "Sensitivity/Recall:\t 0.900523560209424\n",
            "Specificity:\t 0.7978723404255319\n",
            "Precision:\t 0.819047619047619\n",
            "False Positive Rate: 0.2021276595744681\n"
          ]
        }
      ]
    },
    {
      "cell_type": "code",
      "source": [],
      "metadata": {
        "id": "q8KeWRPqzAFp"
      },
      "execution_count": null,
      "outputs": []
    }
  ]
}